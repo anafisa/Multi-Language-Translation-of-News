{
 "cells": [
  {
   "cell_type": "markdown",
   "id": "61ae4dd4",
   "metadata": {},
   "source": [
    "## Download Google Translate"
   ]
  },
  {
   "cell_type": "code",
   "execution_count": 1,
   "id": "ebf66298",
   "metadata": {},
   "outputs": [],
   "source": [
    "!pip install googletrans==4.0.0-rc1"
   ]
  },
  {
   "cell_type": "markdown",
   "id": "0cd3ed25",
   "metadata": {},
   "source": [
    "## Load parsed data"
   ]
  },
  {
   "cell_type": "code",
   "execution_count": 1,
   "id": "0b254a68",
   "metadata": {
    "scrolled": true
   },
   "outputs": [
    {
     "data": {
      "text/html": [
       "<div>\n",
       "<style scoped>\n",
       "    .dataframe tbody tr th:only-of-type {\n",
       "        vertical-align: middle;\n",
       "    }\n",
       "\n",
       "    .dataframe tbody tr th {\n",
       "        vertical-align: top;\n",
       "    }\n",
       "\n",
       "    .dataframe thead th {\n",
       "        text-align: right;\n",
       "    }\n",
       "</style>\n",
       "<table border=\"1\" class=\"dataframe\">\n",
       "  <thead>\n",
       "    <tr style=\"text-align: right;\">\n",
       "      <th></th>\n",
       "      <th>article</th>\n",
       "      <th>text</th>\n",
       "      <th>language</th>\n",
       "    </tr>\n",
       "  </thead>\n",
       "  <tbody>\n",
       "    <tr>\n",
       "      <th>0</th>\n",
       "      <td>الحرب على غزة مباشر.. قصف إسرائيلي مدمر يوقع ع...</td>\n",
       "      <td>في اليوم الـ56 من الحرب على غزة، استأنفت إسرائ...</td>\n",
       "      <td>ar</td>\n",
       "    </tr>\n",
       "    <tr>\n",
       "      <th>1</th>\n",
       "      <td>الحرب على غزة مباشر.. قصف إسرائيلي مدمر يوقع ع...</td>\n",
       "      <td>في اليوم الـ56 من الحرب على غزة، استأنفت إسرائ...</td>\n",
       "      <td>ar</td>\n",
       "    </tr>\n",
       "    <tr>\n",
       "      <th>2</th>\n",
       "      <td>عشرات الشهداء والجرحى في غارات إسرائيلية على غ...</td>\n",
       "      <td>سقط عشرات الفلسطينيين بين شهيد ومصاب في غارات ...</td>\n",
       "      <td>ar</td>\n",
       "    </tr>\n",
       "    <tr>\n",
       "      <th>3</th>\n",
       "      <td>نتنياهو: إسرائيل ملتزمة بتحقيق أهدافها بغزة مع...</td>\n",
       "      <td>قال رئيس الوزراء الإسرائيلي بنيامين نتنياهو إن...</td>\n",
       "      <td>ar</td>\n",
       "    </tr>\n",
       "    <tr>\n",
       "      <th>4</th>\n",
       "      <td>أولمرت: على إسرائيل أن تستعين بقوات من الناتو ...</td>\n",
       "      <td>طرح رئيس الوزراء الإسرائيلي السابق إيهود أولمر...</td>\n",
       "      <td>ar</td>\n",
       "    </tr>\n",
       "    <tr>\n",
       "      <th>...</th>\n",
       "      <td>...</td>\n",
       "      <td>...</td>\n",
       "      <td>...</td>\n",
       "    </tr>\n",
       "    <tr>\n",
       "      <th>339</th>\n",
       "      <td>Nicaragua : Miss Univers 2023, symbole de beau...</td>\n",
       "      <td>Le monde est à nous Isabelle Labeyrie et La ré...</td>\n",
       "      <td>fr</td>\n",
       "    </tr>\n",
       "    <tr>\n",
       "      <th>340</th>\n",
       "      <td>ÉDITO. COP 28 : en France comme ailleurs, les ...</td>\n",
       "      <td>La Cop 28 s’est ouverte jeudi 30 novembre à Du...</td>\n",
       "      <td>fr</td>\n",
       "    </tr>\n",
       "    <tr>\n",
       "      <th>341</th>\n",
       "      <td>Élections européennes : l'écologiste Marie Tou...</td>\n",
       "      <td>À un peu plus de six mois des élections europé...</td>\n",
       "      <td>fr</td>\n",
       "    </tr>\n",
       "    <tr>\n",
       "      <th>342</th>\n",
       "      <td>Procès Bygmalion : un an de prison avec sursis...</td>\n",
       "      <td>En première instance, en septembre 2021, l'ex-...</td>\n",
       "      <td>fr</td>\n",
       "    </tr>\n",
       "    <tr>\n",
       "      <th>343</th>\n",
       "      <td>Mort de Henry Kissinger : l'incarnation du rêv...</td>\n",
       "      <td>Henry Kissinger est décédé le mercredi 29 nove...</td>\n",
       "      <td>fr</td>\n",
       "    </tr>\n",
       "  </tbody>\n",
       "</table>\n",
       "<p>344 rows × 3 columns</p>\n",
       "</div>"
      ],
      "text/plain": [
       "                                               article  \\\n",
       "0    الحرب على غزة مباشر.. قصف إسرائيلي مدمر يوقع ع...   \n",
       "1    الحرب على غزة مباشر.. قصف إسرائيلي مدمر يوقع ع...   \n",
       "2    عشرات الشهداء والجرحى في غارات إسرائيلية على غ...   \n",
       "3    نتنياهو: إسرائيل ملتزمة بتحقيق أهدافها بغزة مع...   \n",
       "4    أولمرت: على إسرائيل أن تستعين بقوات من الناتو ...   \n",
       "..                                                 ...   \n",
       "339  Nicaragua : Miss Univers 2023, symbole de beau...   \n",
       "340  ÉDITO. COP 28 : en France comme ailleurs, les ...   \n",
       "341  Élections européennes : l'écologiste Marie Tou...   \n",
       "342  Procès Bygmalion : un an de prison avec sursis...   \n",
       "343  Mort de Henry Kissinger : l'incarnation du rêv...   \n",
       "\n",
       "                                                  text language  \n",
       "0    في اليوم الـ56 من الحرب على غزة، استأنفت إسرائ...       ar  \n",
       "1    في اليوم الـ56 من الحرب على غزة، استأنفت إسرائ...       ar  \n",
       "2    سقط عشرات الفلسطينيين بين شهيد ومصاب في غارات ...       ar  \n",
       "3    قال رئيس الوزراء الإسرائيلي بنيامين نتنياهو إن...       ar  \n",
       "4    طرح رئيس الوزراء الإسرائيلي السابق إيهود أولمر...       ar  \n",
       "..                                                 ...      ...  \n",
       "339  Le monde est à nous Isabelle Labeyrie et La ré...       fr  \n",
       "340  La Cop 28 s’est ouverte jeudi 30 novembre à Du...       fr  \n",
       "341  À un peu plus de six mois des élections europé...       fr  \n",
       "342  En première instance, en septembre 2021, l'ex-...       fr  \n",
       "343  Henry Kissinger est décédé le mercredi 29 nove...       fr  \n",
       "\n",
       "[344 rows x 3 columns]"
      ]
     },
     "execution_count": 1,
     "metadata": {},
     "output_type": "execute_result"
    }
   ],
   "source": [
    "import pandas as pd\n",
    "\n",
    "news = pd.read_excel('news_data.xlsx')\n",
    "\n",
    "news"
   ]
  },
  {
   "cell_type": "markdown",
   "id": "5140cbf2",
   "metadata": {},
   "source": [
    "## Truncate text"
   ]
  },
  {
   "cell_type": "code",
   "execution_count": 2,
   "id": "3ae9d6eb",
   "metadata": {},
   "outputs": [],
   "source": [
    "def truncate_to_50_words(text):\n",
    "    words = text.split()  \n",
    "    truncated_text = ' '.join(words[:50]) \n",
    "    return truncated_text"
   ]
  },
  {
   "cell_type": "code",
   "execution_count": 4,
   "id": "6f3451a1",
   "metadata": {},
   "outputs": [],
   "source": [
    "for i in range(len(news)):\n",
    "    news['text'][i] = truncate_to_50_words(news['text'][i])"
   ]
  },
  {
   "cell_type": "markdown",
   "id": "2ad3dce5",
   "metadata": {},
   "source": [
    "## Translate"
   ]
  },
  {
   "cell_type": "code",
   "execution_count": 5,
   "id": "fe3cc5ca",
   "metadata": {},
   "outputs": [],
   "source": [
    "from googletrans import Translator\n",
    "\n",
    "def translate_to_russian(text, src_lang):\n",
    "    translator = Translator()\n",
    "    translated_text = translator.translate(text, src=src_lang, dest='ru')\n",
    "    return translated_text.text"
   ]
  },
  {
   "cell_type": "code",
   "execution_count": 6,
   "id": "c56df98e",
   "metadata": {},
   "outputs": [],
   "source": [
    "source_text = []\n",
    "source_lang = []\n",
    "translated_text = []\n",
    "\n",
    "for i in range(len(news)):\n",
    "    try:    \n",
    "         translated_text.append(translate_to_russian(news['text'][i], news['language'][i]))\n",
    "         source_text.append(news['text'][i])\n",
    "         source_lang.append(news['language'][i])\n",
    "    except:\n",
    "         continue"
   ]
  },
  {
   "cell_type": "code",
   "execution_count": 7,
   "id": "38de39fd",
   "metadata": {
    "scrolled": true
   },
   "outputs": [],
   "source": [
    "df = pd.DataFrame(list(zip(source_text, source_lang, translated_text)), columns =['text', 'language', 'translation'])"
   ]
  },
  {
   "cell_type": "code",
   "execution_count": 9,
   "id": "c2b71063",
   "metadata": {},
   "outputs": [],
   "source": [
    "df.to_excel('translated_news_data.xlsx', index=False)"
   ]
  }
 ],
 "metadata": {
  "kernelspec": {
   "display_name": "Python 3 (ipykernel)",
   "language": "python",
   "name": "python3"
  },
  "language_info": {
   "codemirror_mode": {
    "name": "ipython",
    "version": 3
   },
   "file_extension": ".py",
   "mimetype": "text/x-python",
   "name": "python",
   "nbconvert_exporter": "python",
   "pygments_lexer": "ipython3",
   "version": "3.9.18"
  }
 },
 "nbformat": 4,
 "nbformat_minor": 5
}
