{
  "metadata": {
    "kernelspec": {
      "language": "python",
      "display_name": "Python 3",
      "name": "python3"
    },
    "language_info": {
      "name": "python",
      "version": "3.10.12",
      "mimetype": "text/x-python",
      "codemirror_mode": {
        "name": "ipython",
        "version": 3
      },
      "pygments_lexer": "ipython3",
      "nbconvert_exporter": "python",
      "file_extension": ".py"
    },
    "kaggle": {
      "accelerator": "gpu",
      "dataSources": [
        {
          "sourceId": 7230394,
          "sourceType": "datasetVersion",
          "datasetId": 4186343
        },
        {
          "sourceId": 7232073,
          "sourceType": "datasetVersion",
          "datasetId": 4187622
        }
      ],
      "dockerImageVersionId": 30588,
      "isInternetEnabled": true,
      "language": "python",
      "sourceType": "notebook",
      "isGpuEnabled": true
    },
    "colab": {
      "provenance": []
    }
  },
  "nbformat_minor": 0,
  "nbformat": 4,
  "cells": [
    {
      "cell_type": "code",
      "source": [
        "%%capture\n",
        "!pip install evaluate\n",
        "!pip install sacrebleu\n",
        "!pip install rouge_score\n",
        "!pip install evaluate"
      ],
      "metadata": {
        "execution": {
          "iopub.status.busy": "2023-12-18T08:53:56.006976Z",
          "iopub.execute_input": "2023-12-18T08:53:56.007348Z",
          "iopub.status.idle": "2023-12-18T08:54:49.509237Z",
          "shell.execute_reply.started": "2023-12-18T08:53:56.007319Z",
          "shell.execute_reply": "2023-12-18T08:54:49.508147Z"
        },
        "trusted": true,
        "id": "zEa17H5FbGLI"
      },
      "execution_count": null,
      "outputs": []
    },
    {
      "cell_type": "code",
      "source": [
        "import numpy as np\n",
        "import pandas as pd\n",
        "import evaluate\n",
        "from datasets import load_dataset\n",
        "from transformers import pipeline\n",
        "from transformers import M2M100Tokenizer, M2M100ForConditionalGeneration\n",
        "from transformers import DataCollatorForSeq2Seq\n",
        "from transformers import AutoModelForSeq2SeqLM, Seq2SeqTrainingArguments, Seq2SeqTrainer"
      ],
      "metadata": {
        "execution": {
          "iopub.status.busy": "2023-12-18T08:55:26.457191Z",
          "iopub.execute_input": "2023-12-18T08:55:26.458078Z",
          "iopub.status.idle": "2023-12-18T08:55:45.579453Z",
          "shell.execute_reply.started": "2023-12-18T08:55:26.458047Z",
          "shell.execute_reply": "2023-12-18T08:55:45.578646Z"
        },
        "trusted": true,
        "id": "wWURZfFCbGLK",
        "outputId": "a3947759-e49d-4f45-969a-22df616807f3"
      },
      "execution_count": null,
      "outputs": [
        {
          "name": "stderr",
          "text": "/opt/conda/lib/python3.10/site-packages/scipy/__init__.py:146: UserWarning: A NumPy version >=1.16.5 and <1.23.0 is required for this version of SciPy (detected version 1.24.3\n  warnings.warn(f\"A NumPy version >={np_minversion} and <{np_maxversion}\"\n",
          "output_type": "stream"
        }
      ]
    },
    {
      "cell_type": "code",
      "source": [
        "translator = pipeline(\"translation\", model='/working/my/')"
      ],
      "metadata": {
        "execution": {
          "iopub.status.busy": "2023-12-18T13:18:22.125154Z",
          "iopub.execute_input": "2023-12-18T13:18:22.125580Z",
          "iopub.status.idle": "2023-12-18T13:18:33.651091Z",
          "shell.execute_reply.started": "2023-12-18T13:18:22.125548Z",
          "shell.execute_reply": "2023-12-18T13:18:33.649904Z"
        },
        "trusted": true,
        "id": "mDrs82uibGLY",
        "outputId": "de473da3-92cb-4b0b-99de-e0728bacbd76"
      },
      "execution_count": null,
      "outputs": [
        {
          "name": "stderr",
          "text": "Special tokens have been added in the vocabulary, make sure the associated word embeddings are fine-tuned or trained.\n",
          "output_type": "stream"
        }
      ]
    },
    {
      "cell_type": "code",
      "source": [
        "file_path = 'input/test-news/translated_news_data.xlsx'\n",
        "df = pd.read_excel(file_path)\n",
        "\n",
        "df"
      ],
      "metadata": {
        "execution": {
          "iopub.status.busy": "2023-12-18T17:17:54.286997Z",
          "iopub.execute_input": "2023-12-18T17:17:54.287479Z",
          "iopub.status.idle": "2023-12-18T17:17:54.339304Z",
          "shell.execute_reply.started": "2023-12-18T17:17:54.287445Z",
          "shell.execute_reply": "2023-12-18T17:17:54.338278Z"
        },
        "trusted": true,
        "id": "63yWr5eGbGLZ",
        "outputId": "ed44ba21-ebda-42cd-9098-6ab81f400c80"
      },
      "execution_count": null,
      "outputs": [
        {
          "execution_count": 82,
          "output_type": "execute_result",
          "data": {
            "text/plain": "                                                  text language  \\\n0    في اليوم الـ56 من الحرب على غزة، استأنفت إسرائ...       ar   \n1    سقط عشرات الفلسطينيين بين شهيد ومصاب في غارات ...       ar   \n2    قال رئيس الوزراء الإسرائيلي بنيامين نتنياهو إن...       ar   \n3    طرح رئيس الوزراء الإسرائيلي السابق إيهود أولمر...       ar   \n4    قالت مجلة إيكونوميست البريطانية إن من الواضح أ...       ar   \n..                                                 ...      ...   \n145  Les inondations après les fortes pluies sont t...       fr   \n146  Etincelles, feux d’artifice, spectacles de feu...       fr   \n147  Le jeune supporter, tué par un tir en marge d'...       fr   \n148  Une voiture a fait une sortie de route, sur la...       fr   \n149  François est séropositif depuis ses dix-huit a...       fr   \n\n                                           translation  \n0    На 56 -й день войны с Газой Израиль возобновил...  \n1    Десятки палестинцев упали между мучеником и ра...  \n2    Премьер -министр Израиля Бенджамин Нетаньяху с...  \n3    Бывший премьер -министр Израиля Эхуд Олмерт пр...  \n4    Журнал британского экономиста сказал, что ясно...  \n..                                                 ...  \n145  Наводнения после проливных дождей очень важны ...  \n146  Sparks, Fireworks, Fire Shows и Lights, Sainte...  \n147  Молодой сторонник, убитый выстрелом в кулуарах...  \n148  Автомобиль совершил поездку в город Порта, чет...  \n149  Франсуа был ВИЧ -положительным с его восемнадц...  \n\n[150 rows x 3 columns]",
            "text/html": "<div>\n<style scoped>\n    .dataframe tbody tr th:only-of-type {\n        vertical-align: middle;\n    }\n\n    .dataframe tbody tr th {\n        vertical-align: top;\n    }\n\n    .dataframe thead th {\n        text-align: right;\n    }\n</style>\n<table border=\"1\" class=\"dataframe\">\n  <thead>\n    <tr style=\"text-align: right;\">\n      <th></th>\n      <th>text</th>\n      <th>language</th>\n      <th>translation</th>\n    </tr>\n  </thead>\n  <tbody>\n    <tr>\n      <th>0</th>\n      <td>في اليوم الـ56 من الحرب على غزة، استأنفت إسرائ...</td>\n      <td>ar</td>\n      <td>На 56 -й день войны с Газой Израиль возобновил...</td>\n    </tr>\n    <tr>\n      <th>1</th>\n      <td>سقط عشرات الفلسطينيين بين شهيد ومصاب في غارات ...</td>\n      <td>ar</td>\n      <td>Десятки палестинцев упали между мучеником и ра...</td>\n    </tr>\n    <tr>\n      <th>2</th>\n      <td>قال رئيس الوزراء الإسرائيلي بنيامين نتنياهو إن...</td>\n      <td>ar</td>\n      <td>Премьер -министр Израиля Бенджамин Нетаньяху с...</td>\n    </tr>\n    <tr>\n      <th>3</th>\n      <td>طرح رئيس الوزراء الإسرائيلي السابق إيهود أولمر...</td>\n      <td>ar</td>\n      <td>Бывший премьер -министр Израиля Эхуд Олмерт пр...</td>\n    </tr>\n    <tr>\n      <th>4</th>\n      <td>قالت مجلة إيكونوميست البريطانية إن من الواضح أ...</td>\n      <td>ar</td>\n      <td>Журнал британского экономиста сказал, что ясно...</td>\n    </tr>\n    <tr>\n      <th>...</th>\n      <td>...</td>\n      <td>...</td>\n      <td>...</td>\n    </tr>\n    <tr>\n      <th>145</th>\n      <td>Les inondations après les fortes pluies sont t...</td>\n      <td>fr</td>\n      <td>Наводнения после проливных дождей очень важны ...</td>\n    </tr>\n    <tr>\n      <th>146</th>\n      <td>Etincelles, feux d’artifice, spectacles de feu...</td>\n      <td>fr</td>\n      <td>Sparks, Fireworks, Fire Shows и Lights, Sainte...</td>\n    </tr>\n    <tr>\n      <th>147</th>\n      <td>Le jeune supporter, tué par un tir en marge d'...</td>\n      <td>fr</td>\n      <td>Молодой сторонник, убитый выстрелом в кулуарах...</td>\n    </tr>\n    <tr>\n      <th>148</th>\n      <td>Une voiture a fait une sortie de route, sur la...</td>\n      <td>fr</td>\n      <td>Автомобиль совершил поездку в город Порта, чет...</td>\n    </tr>\n    <tr>\n      <th>149</th>\n      <td>François est séropositif depuis ses dix-huit a...</td>\n      <td>fr</td>\n      <td>Франсуа был ВИЧ -положительным с его восемнадц...</td>\n    </tr>\n  </tbody>\n</table>\n<p>150 rows × 3 columns</p>\n</div>"
          },
          "metadata": {}
        }
      ]
    },
    {
      "cell_type": "code",
      "source": [
        "text_en = df[df['language'] == 'en']['text'].values.tolist()\n",
        "text_translate_en = df[df['language'] == 'en']['translation'].values.tolist()"
      ],
      "metadata": {
        "execution": {
          "iopub.status.busy": "2023-12-18T17:18:03.285782Z",
          "iopub.execute_input": "2023-12-18T17:18:03.286692Z",
          "iopub.status.idle": "2023-12-18T17:18:03.294828Z",
          "shell.execute_reply.started": "2023-12-18T17:18:03.286657Z",
          "shell.execute_reply": "2023-12-18T17:18:03.293739Z"
        },
        "trusted": true,
        "id": "rkqaj1nkbGLa"
      },
      "execution_count": null,
      "outputs": []
    },
    {
      "cell_type": "code",
      "source": [
        "text_fr = df[df['language'] == 'fr']['text'].values.tolist()\n",
        "text_translate_fr = df[df['language'] == 'fr']['translation'].values.tolist()"
      ],
      "metadata": {
        "execution": {
          "iopub.status.busy": "2023-12-18T17:18:07.396068Z",
          "iopub.execute_input": "2023-12-18T17:18:07.396429Z",
          "iopub.status.idle": "2023-12-18T17:18:07.405135Z",
          "shell.execute_reply.started": "2023-12-18T17:18:07.396402Z",
          "shell.execute_reply": "2023-12-18T17:18:07.403560Z"
        },
        "trusted": true,
        "id": "V58hMKWBbGLb"
      },
      "execution_count": null,
      "outputs": []
    },
    {
      "cell_type": "code",
      "source": [
        "text_ar = df[df['language'] == 'ar']['text'].values.tolist()\n",
        "text_translate_ar = df[df['language'] == 'ar']['translation'].values.tolist()"
      ],
      "metadata": {
        "execution": {
          "iopub.status.busy": "2023-12-18T17:18:10.887656Z",
          "iopub.execute_input": "2023-12-18T17:18:10.887996Z",
          "iopub.status.idle": "2023-12-18T17:18:10.897231Z",
          "shell.execute_reply.started": "2023-12-18T17:18:10.887968Z",
          "shell.execute_reply": "2023-12-18T17:18:10.896088Z"
        },
        "trusted": true,
        "id": "kf-ZLAURbGLd"
      },
      "execution_count": null,
      "outputs": []
    },
    {
      "cell_type": "code",
      "source": [
        "results_en = translator(text_en, src_lang='en', tgt_lang='ru')"
      ],
      "metadata": {
        "execution": {
          "iopub.status.busy": "2023-12-18T17:18:20.586505Z",
          "iopub.execute_input": "2023-12-18T17:18:20.586851Z",
          "iopub.status.idle": "2023-12-18T17:30:24.659655Z",
          "shell.execute_reply.started": "2023-12-18T17:18:20.586825Z",
          "shell.execute_reply": "2023-12-18T17:30:24.658551Z"
        },
        "trusted": true,
        "id": "p1bxPAAybGLe"
      },
      "execution_count": null,
      "outputs": []
    },
    {
      "cell_type": "code",
      "source": [
        "results_fr = translator(text_fr, src_lang='fr', tgt_lang='ru')"
      ],
      "metadata": {
        "execution": {
          "iopub.status.busy": "2023-12-18T17:41:33.162830Z",
          "iopub.execute_input": "2023-12-18T17:41:33.163214Z",
          "iopub.status.idle": "2023-12-18T17:51:13.340095Z",
          "shell.execute_reply.started": "2023-12-18T17:41:33.163174Z",
          "shell.execute_reply": "2023-12-18T17:51:13.338944Z"
        },
        "trusted": true,
        "id": "Rh3GTmnAbGLf"
      },
      "execution_count": null,
      "outputs": []
    },
    {
      "cell_type": "code",
      "source": [
        "results_ar = translator(text_ar, src_lang='ar', tgt_lang='ru')"
      ],
      "metadata": {
        "execution": {
          "iopub.status.busy": "2023-12-18T17:53:01.028501Z",
          "iopub.execute_input": "2023-12-18T17:53:01.028910Z",
          "iopub.status.idle": "2023-12-18T18:06:24.633009Z",
          "shell.execute_reply.started": "2023-12-18T17:53:01.028881Z",
          "shell.execute_reply": "2023-12-18T18:06:24.631920Z"
        },
        "trusted": true,
        "id": "LKIxtJqubGLg"
      },
      "execution_count": null,
      "outputs": []
    },
    {
      "cell_type": "code",
      "source": [
        "res_en = []\n",
        "for seq in results_en:\n",
        "    res_en.append(seq['translation_text'])\n",
        "\n",
        "res_fr = []\n",
        "for seq in results_fr:\n",
        "    res_fr.append(seq['translation_text'])\n",
        "\n",
        "res_ar = []\n",
        "for seq in results_ar:\n",
        "    res_ar.append(seq['translation_text'])"
      ],
      "metadata": {
        "execution": {
          "iopub.status.busy": "2023-12-18T18:07:40.392484Z",
          "iopub.execute_input": "2023-12-18T18:07:40.392921Z",
          "iopub.status.idle": "2023-12-18T18:07:40.400351Z",
          "shell.execute_reply.started": "2023-12-18T18:07:40.392888Z",
          "shell.execute_reply": "2023-12-18T18:07:40.399325Z"
        },
        "trusted": true,
        "id": "eY1j4VozbGLg"
      },
      "execution_count": null,
      "outputs": []
    },
    {
      "cell_type": "code",
      "source": [
        "res_en[0]"
      ],
      "metadata": {
        "execution": {
          "iopub.status.busy": "2023-12-18T18:07:43.070288Z",
          "iopub.execute_input": "2023-12-18T18:07:43.070668Z",
          "iopub.status.idle": "2023-12-18T18:07:43.079207Z",
          "shell.execute_reply.started": "2023-12-18T18:07:43.070636Z",
          "shell.execute_reply": "2023-12-18T18:07:43.078013Z"
        },
        "trusted": true,
        "id": "NS_81VZpbGLh",
        "outputId": "35efdc0e-6f03-4a3b-92fb-fafa56f79cc6"
      },
      "execution_count": null,
      "outputs": [
        {
          "execution_count": 96,
          "output_type": "execute_result",
          "data": {
            "text/plain": "'Смертельная борьба разрвалась по сектору Газа в пятницу, когда израильские военные возобновили свои боевые операции после временного вмешательства с Хамасом, которое проложило путь к неделе освобождения заложников.'"
          },
          "metadata": {}
        }
      ]
    },
    {
      "cell_type": "code",
      "source": [
        "text_en[0]"
      ],
      "metadata": {
        "execution": {
          "iopub.status.busy": "2023-12-18T18:07:45.629814Z",
          "iopub.execute_input": "2023-12-18T18:07:45.630197Z",
          "iopub.status.idle": "2023-12-18T18:07:45.638383Z",
          "shell.execute_reply.started": "2023-12-18T18:07:45.630165Z",
          "shell.execute_reply": "2023-12-18T18:07:45.637319Z"
        },
        "trusted": true,
        "id": "nhiRwEk0bGLi",
        "outputId": "b55553c2-8496-499f-f57d-45938f3e2994"
      },
      "execution_count": null,
      "outputs": [
        {
          "execution_count": 97,
          "output_type": "execute_result",
          "data": {
            "text/plain": "'CNN — Deadly fighting broke out across Gaza on Friday as Israel’s military resumed combat operations after the temporary truce with Hamas that had paved the way for a week of hostage releases broke down. Smoke could be seen billowing across parts of the densely populated enclave as Israel’s military'"
          },
          "metadata": {}
        }
      ]
    },
    {
      "cell_type": "code",
      "source": [
        "bleu = metric_bleu.compute(predictions=res_en, references=text_translate_en)\n",
        "print(\"BLEU: \", bleu[\"score\"])\n",
        "\n",
        "rouge = metric_rouge.compute(predictions=res_en, references=text_translate_en)\n",
        "print(\"ROUGE1\", rouge['rouge1'])\n",
        "print(\"ROUGE2\", rouge['rouge2'])"
      ],
      "metadata": {
        "execution": {
          "iopub.status.busy": "2023-12-18T18:07:56.850316Z",
          "iopub.execute_input": "2023-12-18T18:07:56.851193Z",
          "iopub.status.idle": "2023-12-18T18:07:57.140997Z",
          "shell.execute_reply.started": "2023-12-18T18:07:56.851156Z",
          "shell.execute_reply": "2023-12-18T18:07:57.139877Z"
        },
        "trusted": true,
        "id": "-fAxGFnVbGLj",
        "outputId": "624eabc9-b28d-4d95-e5dd-23bc714013e1"
      },
      "execution_count": null,
      "outputs": [
        {
          "name": "stdout",
          "text": "BLEU:  27.684694952040545\nROUGE1 0.5067460317460319\nROUGE2 0.16558008658008658\n",
          "output_type": "stream"
        }
      ]
    },
    {
      "cell_type": "code",
      "source": [
        "bleu = metric_bleu.compute(predictions=res_fr, references=text_translate_fr)\n",
        "print(\"BLEU: \", bleu[\"score\"])\n",
        "\n",
        "rouge = metric_rouge.compute(predictions=res_fr, references=text_translate_fr)\n",
        "print(\"ROUGE1\", rouge['rouge1'])\n",
        "print(\"ROUGE2\", rouge['rouge2'])"
      ],
      "metadata": {
        "execution": {
          "iopub.status.busy": "2023-12-18T18:08:28.863534Z",
          "iopub.execute_input": "2023-12-18T18:08:28.863892Z",
          "iopub.status.idle": "2023-12-18T18:08:29.149291Z",
          "shell.execute_reply.started": "2023-12-18T18:08:28.863866Z",
          "shell.execute_reply": "2023-12-18T18:08:29.148144Z"
        },
        "trusted": true,
        "id": "RIw9JoOUbGLj",
        "outputId": "9d77963e-f279-4183-85fd-12a6cd6dbd3c"
      },
      "execution_count": null,
      "outputs": [
        {
          "name": "stdout",
          "text": "BLEU:  16.995431856473008\nROUGE1 0.4727507106714424\nROUGE2 0.2016883116883117\n",
          "output_type": "stream"
        }
      ]
    },
    {
      "cell_type": "code",
      "source": [
        "bleu = metric_bleu.compute(predictions=res_ar, references=text_translate_ar)\n",
        "print(\"BLEU: \", bleu[\"score\"])\n",
        "\n",
        "rouge = metric_rouge.compute(predictions=res_ar, references=text_translate_ar)\n",
        "print(\"ROUGE1\", rouge['rouge1'])\n",
        "print(\"ROUGE2\", rouge['rouge2'])"
      ],
      "metadata": {
        "execution": {
          "iopub.status.busy": "2023-12-18T18:08:49.000990Z",
          "iopub.execute_input": "2023-12-18T18:08:49.001507Z",
          "iopub.status.idle": "2023-12-18T18:08:49.298067Z",
          "shell.execute_reply.started": "2023-12-18T18:08:49.001473Z",
          "shell.execute_reply": "2023-12-18T18:08:49.297023Z"
        },
        "trusted": true,
        "id": "djMUReWjbGLl",
        "outputId": "fb26ec46-ee5b-44ea-ce02-6207bd1d0163"
      },
      "execution_count": null,
      "outputs": [
        {
          "name": "stdout",
          "text": "BLEU:  20.413413614608253\nROUGE1 0.3516176046176046\nROUGE2 0.1341904761904762\n",
          "output_type": "stream"
        }
      ]
    },
    {
      "cell_type": "code",
      "source": [
        "en_df = pd.DataFrame(list(zip(res_en, text_translate_en, text_en)), columns =['candidate', 'reference', 'original'])"
      ],
      "metadata": {
        "execution": {
          "iopub.status.busy": "2023-12-18T18:14:10.253162Z",
          "iopub.execute_input": "2023-12-18T18:14:10.254090Z",
          "iopub.status.idle": "2023-12-18T18:14:10.261002Z",
          "shell.execute_reply.started": "2023-12-18T18:14:10.254053Z",
          "shell.execute_reply": "2023-12-18T18:14:10.259901Z"
        },
        "trusted": true,
        "id": "0nJA0zWdbGLl"
      },
      "execution_count": null,
      "outputs": []
    },
    {
      "cell_type": "code",
      "source": [
        "fr_df = pd.DataFrame(list(zip(res_fr, text_translate_fr, text_fr)), columns =['candidate', 'reference', 'original'])"
      ],
      "metadata": {
        "execution": {
          "iopub.status.busy": "2023-12-18T18:14:30.097125Z",
          "iopub.execute_input": "2023-12-18T18:14:30.098068Z",
          "iopub.status.idle": "2023-12-18T18:14:30.104350Z",
          "shell.execute_reply.started": "2023-12-18T18:14:30.098010Z",
          "shell.execute_reply": "2023-12-18T18:14:30.103234Z"
        },
        "trusted": true,
        "id": "GgPs5KKnbGLm"
      },
      "execution_count": null,
      "outputs": []
    },
    {
      "cell_type": "code",
      "source": [
        "ar_df = pd.DataFrame(list(zip(res_ar, text_translate_ar, text_ar)), columns =['candidate', 'reference', 'original'])"
      ],
      "metadata": {
        "execution": {
          "iopub.status.busy": "2023-12-18T18:20:15.305880Z",
          "iopub.execute_input": "2023-12-18T18:20:15.306355Z",
          "iopub.status.idle": "2023-12-18T18:20:15.313557Z",
          "shell.execute_reply.started": "2023-12-18T18:20:15.306317Z",
          "shell.execute_reply": "2023-12-18T18:20:15.312542Z"
        },
        "trusted": true,
        "id": "W21QOcIXbGLm"
      },
      "execution_count": null,
      "outputs": []
    },
    {
      "cell_type": "code",
      "source": [
        "en_df.to_excel('eng_news.xlsx', index=False)\n",
        "fr_df.to_excel('fr_news.xlsx', index=False)\n",
        "ar_df.to_excel('ar_news.xlsx', index=False)"
      ],
      "metadata": {
        "execution": {
          "iopub.status.busy": "2023-12-18T18:21:23.263316Z",
          "iopub.execute_input": "2023-12-18T18:21:23.264147Z",
          "iopub.status.idle": "2023-12-18T18:21:23.381168Z",
          "shell.execute_reply.started": "2023-12-18T18:21:23.264115Z",
          "shell.execute_reply": "2023-12-18T18:21:23.380116Z"
        },
        "trusted": true,
        "id": "aixDcDcrbGLn"
      },
      "execution_count": null,
      "outputs": []
    }
  ]
}